{
 "cells": [
  {
   "cell_type": "code",
   "execution_count": 15,
   "metadata": {},
   "outputs": [],
   "source": [
    "import torch\n",
    "import torch.nn as nn\n",
    "import torch.optim as optim\n",
    "from torchvision import datasets, transforms\n",
    "from torch.autograd import Variable\n",
    "import torch.nn.functional as F\n",
    "import numpy as np\n",
    "import matplotlib.pyplot as plt\n",
    "import os\n",
    "import pandas as pd\n",
    "from sklearn.decomposition import PCA\n",
    "\n",
    "torch.manual_seed(1)\n",
    "os.environ['KMP_DUPLICATE_LIB_OK'] = 'True'\n"
   ]
  },
  {
   "cell_type": "code",
   "execution_count": 16,
   "metadata": {},
   "outputs": [],
   "source": [
    "def fetch_data(training_batch_size, testing_batch_size):\n",
    "    mnist_train = datasets.MNIST('data_mnist', train=True, download=True,\n",
    "                                 transform=transforms.Compose([transforms.ToTensor()]))\n",
    "    train_data_loader = torch.utils.data.DataLoader(mnist_train, batch_size=training_batch_size, shuffle=True)\n",
    "\n",
    "    mnist_test = datasets.MNIST('data_mnist', train=False, download=True,\n",
    "                                transform=transforms.Compose([transforms.ToTensor()]))\n",
    "    test_data_loader = torch.utils.data.DataLoader(mnist_test, batch_size=testing_batch_size, shuffle=True)\n",
    "\n",
    "    return train_data_loader, test_data_loader\n"
   ]
  },
  {
   "cell_type": "code",
   "execution_count": 17,
   "metadata": {},
   "outputs": [],
   "source": [
    "class BasicNN(nn.Module):\n",
    "    def __init__(self):\n",
    "        super(BasicNN, self).__init__()\n",
    "        self.dense1 = nn.Linear(784, 10)\n",
    "        self.dense2 = nn.Linear(10, 20)\n",
    "        self.dense3 = nn.Linear(20, 10)\n",
    "\n",
    "    def forward(self, x):\n",
    "        x = x.view(-1, 28 * 28)\n",
    "        x = F.relu(self.dense1(x))\n",
    "        x = F.relu(self.dense2(x))\n",
    "        x = self.dense3(x)\n",
    "        return x\n"
   ]
  },
  {
   "cell_type": "code",
   "execution_count": 18,
   "metadata": {},
   "outputs": [],
   "source": [
    "def compute_metrics(mod, data_loader, criterion):\n",
    "    mod.eval()\n",
    "    total_loss, correct, total = 0, 0, 0\n",
    "    with torch.no_grad():\n",
    "        for images, labels in data_loader:\n",
    "            images = images.view(-1, 784)\n",
    "            outputs = mod(images)\n",
    "            loss = criterion(outputs, labels)\n",
    "            total_loss += loss.item() * images.size(0)\n",
    "            _, preds = torch.max(outputs, 1)\n",
    "            correct += torch.sum(preds == labels).item()\n",
    "            total += labels.size(0)\n",
    "    avg_loss = total_loss / total\n",
    "    accuracy = correct / total\n",
    "    return avg_loss, accuracy\n"
   ]
  },
  {
   "cell_type": "code",
   "execution_count": 19,
   "metadata": {},
   "outputs": [],
   "source": [
    "def model_training_routine(model, epochs, train_dl, test_dl):\n",
    "    optimizer = optim.Adam(model.parameters(), lr=0.0004, weight_decay=1e-4)\n",
    "    criterion = nn.CrossEntropyLoss()\n",
    "    records = []\n",
    "\n",
    "    for epoch in range(epochs):\n",
    "        model.train()\n",
    "        for images, labels in train_dl:\n",
    "            optimizer.zero_grad()\n",
    "            predictions = model(images.view(-1, 784))\n",
    "            loss = criterion(predictions, labels)\n",
    "            loss.backward()\n",
    "            optimizer.step()\n",
    "        \n",
    "        \n",
    "        train_loss, train_acc = compute_metrics(model, train_dl, criterion)\n",
    "        test_loss, test_acc = compute_metrics(model, test_dl, criterion)\n",
    "        print(f'Epoch {epoch+1}/{epochs}, Train Loss: {train_loss:.4f}, Train Acc: {train_acc:.4f}, Test Loss: {test_loss:.4f}, Test Acc: {test_acc:.4f}')\n",
    "        records.append((train_loss, train_acc, test_loss, test_acc))\n",
    "    \n",
    "    return pd.DataFrame(records, columns=['Train Loss', 'Train Acc', 'Test Loss', 'Test Acc'])\n"
   ]
  },
  {
   "cell_type": "code",
   "execution_count": 20,
   "metadata": {},
   "outputs": [
    {
     "name": "stdout",
     "output_type": "stream",
     "text": [
      "Epoch 1/45, Train Loss: 2.0993, Train Acc: 0.3061, Test Loss: 2.0950, Test Acc: 0.3186\n",
      "Epoch 2/45, Train Loss: 1.7218, Train Acc: 0.4682, Test Loss: 1.7096, Test Acc: 0.4799\n",
      "Epoch 3/45, Train Loss: 1.2916, Train Acc: 0.6674, Test Loss: 1.2730, Test Acc: 0.6739\n",
      "Epoch 4/45, Train Loss: 0.9557, Train Acc: 0.7630, Test Loss: 0.9351, Test Acc: 0.7715\n",
      "Epoch 5/45, Train Loss: 0.7554, Train Acc: 0.8017, Test Loss: 0.7345, Test Acc: 0.8096\n",
      "Epoch 6/45, Train Loss: 0.6382, Train Acc: 0.8256, Test Loss: 0.6188, Test Acc: 0.8363\n",
      "Epoch 7/45, Train Loss: 0.5618, Train Acc: 0.8442, Test Loss: 0.5459, Test Acc: 0.8523\n",
      "Epoch 8/45, Train Loss: 0.5077, Train Acc: 0.8562, Test Loss: 0.4938, Test Acc: 0.8645\n",
      "Epoch 9/45, Train Loss: 0.4667, Train Acc: 0.8688, Test Loss: 0.4548, Test Acc: 0.8724\n",
      "Epoch 10/45, Train Loss: 0.4352, Train Acc: 0.8763, Test Loss: 0.4254, Test Acc: 0.8782\n",
      "Epoch 11/45, Train Loss: 0.4105, Train Acc: 0.8829, Test Loss: 0.4024, Test Acc: 0.8847\n",
      "Epoch 12/45, Train Loss: 0.3903, Train Acc: 0.8877, Test Loss: 0.3830, Test Acc: 0.8887\n",
      "Epoch 13/45, Train Loss: 0.3738, Train Acc: 0.8927, Test Loss: 0.3671, Test Acc: 0.8936\n",
      "Epoch 14/45, Train Loss: 0.3614, Train Acc: 0.8955, Test Loss: 0.3564, Test Acc: 0.8966\n",
      "Epoch 15/45, Train Loss: 0.3489, Train Acc: 0.9000, Test Loss: 0.3442, Test Acc: 0.9014\n",
      "Epoch 16/45, Train Loss: 0.3397, Train Acc: 0.9026, Test Loss: 0.3344, Test Acc: 0.9034\n",
      "Epoch 17/45, Train Loss: 0.3311, Train Acc: 0.9050, Test Loss: 0.3275, Test Acc: 0.9071\n",
      "Epoch 18/45, Train Loss: 0.3238, Train Acc: 0.9067, Test Loss: 0.3205, Test Acc: 0.9080\n",
      "Epoch 19/45, Train Loss: 0.3174, Train Acc: 0.9089, Test Loss: 0.3143, Test Acc: 0.9086\n",
      "Epoch 20/45, Train Loss: 0.3111, Train Acc: 0.9110, Test Loss: 0.3082, Test Acc: 0.9110\n",
      "Epoch 21/45, Train Loss: 0.3058, Train Acc: 0.9125, Test Loss: 0.3045, Test Acc: 0.9121\n",
      "Epoch 22/45, Train Loss: 0.3005, Train Acc: 0.9136, Test Loss: 0.2982, Test Acc: 0.9139\n",
      "Epoch 23/45, Train Loss: 0.2954, Train Acc: 0.9152, Test Loss: 0.2945, Test Acc: 0.9150\n",
      "Epoch 24/45, Train Loss: 0.2908, Train Acc: 0.9163, Test Loss: 0.2905, Test Acc: 0.9170\n",
      "Epoch 25/45, Train Loss: 0.2872, Train Acc: 0.9175, Test Loss: 0.2865, Test Acc: 0.9159\n",
      "Epoch 26/45, Train Loss: 0.2830, Train Acc: 0.9185, Test Loss: 0.2835, Test Acc: 0.9172\n",
      "Epoch 27/45, Train Loss: 0.2791, Train Acc: 0.9191, Test Loss: 0.2802, Test Acc: 0.9186\n",
      "Epoch 28/45, Train Loss: 0.2758, Train Acc: 0.9202, Test Loss: 0.2780, Test Acc: 0.9196\n",
      "Epoch 29/45, Train Loss: 0.2722, Train Acc: 0.9216, Test Loss: 0.2745, Test Acc: 0.9201\n",
      "Epoch 30/45, Train Loss: 0.2694, Train Acc: 0.9220, Test Loss: 0.2722, Test Acc: 0.9203\n",
      "Epoch 31/45, Train Loss: 0.2665, Train Acc: 0.9231, Test Loss: 0.2701, Test Acc: 0.9217\n",
      "Epoch 32/45, Train Loss: 0.2637, Train Acc: 0.9241, Test Loss: 0.2665, Test Acc: 0.9226\n",
      "Epoch 33/45, Train Loss: 0.2610, Train Acc: 0.9254, Test Loss: 0.2649, Test Acc: 0.9236\n",
      "Epoch 34/45, Train Loss: 0.2589, Train Acc: 0.9251, Test Loss: 0.2630, Test Acc: 0.9229\n",
      "Epoch 35/45, Train Loss: 0.2558, Train Acc: 0.9264, Test Loss: 0.2605, Test Acc: 0.9247\n",
      "Epoch 36/45, Train Loss: 0.2536, Train Acc: 0.9268, Test Loss: 0.2582, Test Acc: 0.9249\n",
      "Epoch 37/45, Train Loss: 0.2512, Train Acc: 0.9275, Test Loss: 0.2569, Test Acc: 0.9260\n",
      "Epoch 38/45, Train Loss: 0.2491, Train Acc: 0.9279, Test Loss: 0.2551, Test Acc: 0.9270\n",
      "Epoch 39/45, Train Loss: 0.2470, Train Acc: 0.9288, Test Loss: 0.2534, Test Acc: 0.9267\n",
      "Epoch 40/45, Train Loss: 0.2443, Train Acc: 0.9295, Test Loss: 0.2519, Test Acc: 0.9270\n",
      "Epoch 41/45, Train Loss: 0.2425, Train Acc: 0.9297, Test Loss: 0.2505, Test Acc: 0.9284\n",
      "Epoch 42/45, Train Loss: 0.2400, Train Acc: 0.9307, Test Loss: 0.2476, Test Acc: 0.9287\n",
      "Epoch 43/45, Train Loss: 0.2380, Train Acc: 0.9307, Test Loss: 0.2475, Test Acc: 0.9283\n",
      "Epoch 44/45, Train Loss: 0.2363, Train Acc: 0.9314, Test Loss: 0.2454, Test Acc: 0.9301\n",
      "Epoch 45/45, Train Loss: 0.2341, Train Acc: 0.9324, Test Loss: 0.2436, Test Acc: 0.9304\n"
     ]
    }
   ],
   "source": [
    "batch_train, batch_test = 1000, 1000\n",
    "train_loader, test_loader = fetch_data(batch_train, batch_test)\n",
    "\n",
    "model = BasicNN()\n",
    "training_records = model_training_routine(model, 45, train_loader, test_loader)\n"
   ]
  },
  {
   "cell_type": "code",
   "execution_count": 21,
   "metadata": {},
   "outputs": [
    {
     "name": "stderr",
     "output_type": "stream",
     "text": [
      "/var/folders/5b/cl1s68wj1xb3_s270s4z7z3r0000gp/T/ipykernel_55160/1862861276.py:6: UserWarning: No data for colormapping provided via 'c'. Parameters 'cmap' will be ignored\n",
      "  plt.scatter(components[:, 0], components[:, 1], alpha=0.7, cmap='viridis')\n"
     ]
    },
    {
     "data": {
      "image/png": "[encoded data removed]",
      "text/plain": [
       "<Figure size 1000x600 with 2 Axes>"
      ]
     },
     "metadata": {},
     "output_type": "display_data"
    }
   ],
   "source": [
    "\n",
    "def visualize_pca(df):\n",
    "    pca = PCA(n_components=2)\n",
    "    components = pca.fit_transform(df[['Train Loss', 'Train Acc', 'Test Loss', 'Test Acc']])\n",
    "    plt.figure(figsize=(10, 6))\n",
    "    plt.scatter(components[:, 0], components[:, 1], alpha=0.7, cmap='viridis')\n",
    "    plt.xlabel('Principal Component 1')\n",
    "    plt.ylabel('Principal Component 2')\n",
    "    plt.title('PCA of Training Metrics')\n",
    "    plt.colorbar()\n",
    "    plt.show()\n",
    "\n",
    "visualize_pca(training_records)\n"
   ]
  },
  {
   "cell_type": "code",
   "execution_count": null,
   "metadata": {},
   "outputs": [],
   "source": []
  },
  {
   "cell_type": "code",
   "execution_count": null,
   "metadata": {},
   "outputs": [],
   "source": []
  },
  {
   "cell_type": "code",
   "execution_count": null,
   "metadata": {},
   "outputs": [],
   "source": []
  },
  {
   "cell_type": "code",
   "execution_count": null,
   "metadata": {},
   "outputs": [],
   "source": []
  },
  {
   "cell_type": "code",
   "execution_count": null,
   "metadata": {},
   "outputs": [],
   "source": []
  },
  {
   "cell_type": "code",
   "execution_count": null,
   "metadata": {},
   "outputs": [],
   "source": []
  },
  {
   "cell_type": "code",
   "execution_count": null,
   "metadata": {},
   "outputs": [],
   "source": []
  },
  {
   "cell_type": "code",
   "execution_count": null,
   "metadata": {},
   "outputs": [],
   "source": []
  },
  {
   "cell_type": "code",
   "execution_count": null,
   "metadata": {},
   "outputs": [],
   "source": []
  }
 ],
 "metadata": {
  "interpreter": {
   "hash": "5a03e6978a913b76a01264f69485476c06bb2afb04825931e6a903524ca57e27"
  },
  "kernelspec": {
   "display_name": "Python 3.8.3 ('base')",
   "language": "python",
   "name": "python3"
  },
  "language_info": {
   "codemirror_mode": {
    "name": "ipython",
    "version": 3
   },
   "file_extension": ".py",
   "mimetype": "text/x-python",
   "name": "python",
   "nbconvert_exporter": "python",
   "pygments_lexer": "ipython3",
   "version": "3.9.6"
  },
  "orig_nbformat": 4
 },
 "nbformat": 4,
 "nbformat_minor": 2
}
